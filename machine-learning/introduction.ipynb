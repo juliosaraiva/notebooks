{
 "cells": [
  {
   "cell_type": "markdown",
   "id": "88835301",
   "metadata": {},
   "source": [
    "# Introduction to Machine Learning"
   ]
  },
  {
   "cell_type": "markdown",
   "id": "1c9e1c4a",
   "metadata": {},
   "source": [
    "## Machine Learning vs Deep Learning Algorithms"
   ]
  },
  {
   "cell_type": "markdown",
   "id": "985dedc3",
   "metadata": {},
   "source": [
    "\n",
    "| Machine Learning | Deep Learning   |\n",
    "-------------------|-------------------\n",
    "| Random Forest | Neural Networks |\n",
    "|  Gradient boosted models | Fully connected neural network |\n",
    "| Naive Bayes | Convolutional neural network |\n",
    "| Nearest neighbour | Recurrent neural network (RNN) |\n",
    "| Support vector machine | Transformer |\n",
    "| ... many more | ... many more |"
   ]
  },
  {
   "cell_type": "markdown",
   "id": "87cd6138",
   "metadata": {},
   "source": []
  }
 ],
 "metadata": {
  "kernelspec": {
   "display_name": ".venv",
   "language": "python",
   "name": "python3"
  },
  "language_info": {
   "codemirror_mode": {
    "name": "ipython",
    "version": 3
   },
   "file_extension": ".py",
   "mimetype": "text/x-python",
   "name": "python",
   "nbconvert_exporter": "python",
   "pygments_lexer": "ipython3",
   "version": "3.13.3"
  }
 },
 "nbformat": 4,
 "nbformat_minor": 5
}
